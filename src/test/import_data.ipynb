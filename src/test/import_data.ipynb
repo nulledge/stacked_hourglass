{
 "cells": [
  {
   "cell_type": "code",
   "execution_count": null,
   "metadata": {},
   "outputs": [],
   "source": [
    "import sys\n",
    "from tqdm import tqdm\n",
    "sys.path.append('../')\n",
    "\n",
    "from data import *\n",
    "\n",
    "reader = DataCenter(root = os.path.expanduser('~/Workspace/data/'))\\\n",
    "    .request(data = 'MPII', task = 'train', metric = 'PCKh')\n",
    "    \n",
    "assert MPII.NUMBER_OF_DATA == 25994 + 2889\n",
    "\n",
    "batch = reader.getBatch(size = 8)\n",
    "for idx in range(8):\n",
    "    imageio.imwrite('image_MPII_' + str(idx) + '.jpg', batch[0][idx])\n",
    "    for y in range(64):\n",
    "        for x in range(64):\n",
    "            batch[1][idx][y, x, 0] = max(batch[1][idx][y, x, :])\n",
    "    imageio.imwrite('heat_MPII_' + str(idx) + '.jpg', batch[1][idx][:, :, 0])\n",
    "\n",
    "one_epoch = int(MPII.NUMBER_OF_DATA * MPII.TRAIN_RATIO) * len(AUGMENTATION.SCALE) * len(AUGMENTATION.ROTATE)\n",
    "cnt = 0\n",
    "reader.reset()\n",
    "test_iter = tqdm(total = one_epoch)\n",
    "for _ in range(one_epoch):\n",
    "    batch = reader.getBatch(size = 8)\n",
    "    cnt = cnt + batch[0].shape[0]\n",
    "    test_iter.update(batch[0].shape[0])\n",
    "test_iter.close()    \n",
    "    \n",
    "assert cnt == int(MPII.NUMBER_OF_DATA * MPII.TRAIN_RATIO) * len(AUGMENTATION.ROTATE) * len(AUGMENTATION.SCALE)\n",
    "\n",
    "\n",
    "\n",
    "reader = DataCenter(root = os.path.expanduser('~/Workspace/data/'))\\\n",
    "    .request(data = 'FLIC', task = 'train', metric = 'PCK')\n",
    "\n",
    "assert FLIC.NUMBER_OF_DATA == 5003\n",
    "\n",
    "batch = reader.getBatch(size = 8)\n",
    "for idx in range(8):\n",
    "    imageio.imwrite('image_FLIC_' + str(idx) + '.jpg', batch[0][idx])\n",
    "    for y in range(64):\n",
    "        for x in range(64):\n",
    "            batch[1][idx][y, x, 0] = max(batch[1][idx][y, x, :])\n",
    "    imageio.imwrite('heat_FLIC_' + str(idx) + '.jpg', batch[1][idx][:, :, 0])\n",
    "\n",
    "one_epoch = int(FLIC.NUMBER_OF_DATA * FLIC.TRAIN_RATIO) * len(AUGMENTATION.SCALE) * len(AUGMENTATION.ROTATE)\n",
    "cnt = 0\n",
    "reader.reset()\n",
    "test_iter = tqdm(total = one_epoch)\n",
    "for _ in range(one_epoch):\n",
    "    batch = reader.getBatch(size = 8)\n",
    "    cnt = cnt + batch[0].shape[0]\n",
    "    test_iter.update(batch[0].shape[0])\n",
    "test_iter.close()    \n",
    "    \n",
    "assert cnt == int(FLIC.NUMBER_OF_DATA * FLIC.TRAIN_RATIO) * len(AUGMENTATION.SCALE) * len(AUGMENTATION.ROTATE)\n",
    "\n",
    "print('complete.')"
   ]
  },
  {
   "cell_type": "code",
   "execution_count": null,
   "metadata": {},
   "outputs": [],
   "source": []
  }
 ],
 "metadata": {
  "kernelspec": {
   "display_name": "tf-36",
   "language": "python",
   "name": "th-36"
  },
  "language_info": {
   "codemirror_mode": {
    "name": "ipython",
    "version": 3
   },
   "file_extension": ".py",
   "mimetype": "text/x-python",
   "name": "python",
   "nbconvert_exporter": "python",
   "pygments_lexer": "ipython3",
   "version": "3.6.3"
  }
 },
 "nbformat": 4,
 "nbformat_minor": 2
}
